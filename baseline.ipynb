{
 "cells": [
  {
   "cell_type": "code",
   "execution_count": 1,
   "id": "eba83826-70fc-4347-af69-b255e6fa69e1",
   "metadata": {
    "tags": []
   },
   "outputs": [],
   "source": [
    "#引入CutMix\n",
    "from cutmix.cutmix import CutMix\n",
    "from cutmix.utils import CutMixCrossEntropyLoss"
   ]
  },
  {
   "cell_type": "code",
   "execution_count": 2,
   "id": "260d3fbf-2eb8-451f-8189-1937f27c677b",
   "metadata": {
    "tags": []
   },
   "outputs": [],
   "source": [
    "#引入TTA\n",
    "import ttach as tta"
   ]
  },
  {
   "cell_type": "code",
   "execution_count": 4,
   "id": "10f025fd-6c92-4d1c-ad16-36611d1c91a0",
   "metadata": {
    "tags": []
   },
   "outputs": [],
   "source": [
    "import torch\n",
    "import torch.nn as nn\n",
    "from torch.nn import functional as F\n",
    "from resnest.torch import resnest50\n",
    "import pandas as pd\n",
    "import numpy as np\n",
    "from torch.utils.data import Dataset, DataLoader, TensorDataset\n",
    "from torchvision import transforms\n",
    "from torch.optim.lr_scheduler import CosineAnnealingLR\n",
    "from sklearn.model_selection import KFold\n",
    "from PIL import Image\n",
    "import os\n",
    "import matplotlib.pyplot as plt\n",
    "import torchvision.models as models\n",
    "from tqdm import tqdm\n",
    "import seaborn as sns"
   ]
  },
  {
   "cell_type": "code",
   "execution_count": 6,
   "id": "d69bdb20-0bcb-47ad-942a-c8ac6ccf1411",
   "metadata": {
    "tags": []
   },
   "outputs": [
    {
     "data": {
      "text/html": [
       "<div>\n",
       "<style scoped>\n",
       "    .dataframe tbody tr th:only-of-type {\n",
       "        vertical-align: middle;\n",
       "    }\n",
       "\n",
       "    .dataframe tbody tr th {\n",
       "        vertical-align: top;\n",
       "    }\n",
       "\n",
       "    .dataframe thead th {\n",
       "        text-align: right;\n",
       "    }\n",
       "</style>\n",
       "<table border=\"1\" class=\"dataframe\">\n",
       "  <thead>\n",
       "    <tr style=\"text-align: right;\">\n",
       "      <th></th>\n",
       "      <th>image</th>\n",
       "      <th>label</th>\n",
       "    </tr>\n",
       "  </thead>\n",
       "  <tbody>\n",
       "    <tr>\n",
       "      <th>0</th>\n",
       "      <td>images/0.jpg</td>\n",
       "      <td>maclura_pomifera</td>\n",
       "    </tr>\n",
       "    <tr>\n",
       "      <th>1</th>\n",
       "      <td>images/1.jpg</td>\n",
       "      <td>maclura_pomifera</td>\n",
       "    </tr>\n",
       "    <tr>\n",
       "      <th>2</th>\n",
       "      <td>images/2.jpg</td>\n",
       "      <td>maclura_pomifera</td>\n",
       "    </tr>\n",
       "    <tr>\n",
       "      <th>3</th>\n",
       "      <td>images/3.jpg</td>\n",
       "      <td>maclura_pomifera</td>\n",
       "    </tr>\n",
       "    <tr>\n",
       "      <th>4</th>\n",
       "      <td>images/4.jpg</td>\n",
       "      <td>maclura_pomifera</td>\n",
       "    </tr>\n",
       "  </tbody>\n",
       "</table>\n",
       "</div>"
      ],
      "text/plain": [
       "          image             label\n",
       "0  images/0.jpg  maclura_pomifera\n",
       "1  images/1.jpg  maclura_pomifera\n",
       "2  images/2.jpg  maclura_pomifera\n",
       "3  images/3.jpg  maclura_pomifera\n",
       "4  images/4.jpg  maclura_pomifera"
      ]
     },
     "execution_count": 6,
     "metadata": {},
     "output_type": "execute_result"
    }
   ],
   "source": [
    "labels_dataframe = pd.read_csv('train.csv')\n",
    "labels_dataframe.head(5)"
   ]
  },
  {
   "cell_type": "code",
   "execution_count": 8,
   "id": "b10f6e9d-32b5-463f-acf7-d4c9d86b229f",
   "metadata": {
    "tags": []
   },
   "outputs": [
    {
     "name": "stdout",
     "output_type": "stream",
     "text": [
      "176\n"
     ]
    },
    {
     "data": {
      "text/plain": [
       "['abies_concolor',\n",
       " 'abies_nordmanniana',\n",
       " 'acer_campestre',\n",
       " 'acer_ginnala',\n",
       " 'acer_griseum']"
      ]
     },
     "execution_count": 8,
     "metadata": {},
     "output_type": "execute_result"
    }
   ],
   "source": [
    "leaves_labels = sorted(list(set(labels_dataframe['label'])))\n",
    "n_classes = len(leaves_labels)\n",
    "print(n_classes)\n",
    "leaves_labels[:5]"
   ]
  },
  {
   "cell_type": "code",
   "execution_count": 19,
   "id": "bd3aa2ae-d086-4291-a014-5dae90534cd4",
   "metadata": {
    "tags": []
   },
   "outputs": [],
   "source": [
    "class_to_num = dict(zip(leaves_labels, range(n_classes)))\n",
    "num_to_class = {v : k for k, v in class_to_num.items()}"
   ]
  },
  {
   "cell_type": "code",
   "execution_count": null,
   "id": "6d713879-6dd0-478d-b2da-32315a1953c8",
   "metadata": {
    "tags": []
   },
   "outputs": [],
   "source": [
    "def barw(ax): \n",
    "    \n",
    "    for p in ax.patches:\n",
    "        val = p.get_width() #height of the bar\n",
    "        x = p.get_x()+ p.get_width() # x- position \n",
    "        y = p.get_y() + p.get_height()/2 #y-position\n",
    "        ax.annotate(round(val,2),(x,y))\n",
    "        \n",
    "#finding top leaves\n",
    "\n",
    "plt.figure(figsize = (15,30))\n",
    "ax0 =sns.countplot(y=labels_dataframe['label'],order=labels_dataframe['label'].value_counts().index)\n",
    "barw(ax0)\n",
    "plt.show()"
   ]
  },
  {
   "cell_type": "code",
   "execution_count": 13,
   "id": "87398bed-0ce1-48e3-9b3d-0009f1eb5691",
   "metadata": {
    "tags": []
   },
   "outputs": [],
   "source": [
    "# 继承pytorch的dataset\n",
    "class TrainValidData(Dataset):\n",
    "    def __init__(self, csv_path, file_path, resize_height=224, resize_width=224, transform=None):\n",
    "        \n",
    "        # 需要调整后的照片尺寸，我这里每张图片的大小尺寸不一致#\n",
    "        self.resize_height = resize_height\n",
    "        self.resize_width = resize_width\n",
    "        self.file_path = file_path\n",
    "        self.to_tensor = transforms.ToTensor() #将数据转换成tensor形式\n",
    "        self.transform = transform\n",
    "\n",
    "        # 利用pandas读取csv文件\n",
    "        self.data_info = pd.read_csv(csv_path, header=None)  #header=None是去掉表头部分\n",
    "        # 文件第一列包含图像文件名称\n",
    "        self.image_arr = np.asarray(self.data_info.iloc[1:,0]) #self.data_info.iloc[1:,0]表示读取第一列，从第二行开始一直读取到最后一行\n",
    "        # 第二列是图像的 label\n",
    "        self.label_arr = np.asarray(self.data_info.iloc[1:,1])\n",
    "        # 计算 length\n",
    "        self.data_len = len(self.data_info.index) - 1\n",
    "\n",
    "    def __getitem__(self, index):\n",
    "        # 从 image_arr中得到索引对应的文件名\n",
    "        single_image_name = self.image_arr[index]\n",
    "\n",
    "        # 读取图像文件\n",
    "        img_as_img = Image.open(self.file_path + single_image_name)\n",
    "        \n",
    "        transform = transforms.Compose([\n",
    "            transforms.Resize((224, 224)),\n",
    "            transforms.ToTensor()\n",
    "        ])\n",
    "        img_as_img = transform(img_as_img)\n",
    "\n",
    "        label = self.label_arr[index]\n",
    "        number_label = class_to_num[label]\n",
    "\n",
    "        return (img_as_img, number_label) \n",
    "\n",
    "    def __len__(self):\n",
    "        return self.data_len"
   ]
  },
  {
   "cell_type": "code",
   "execution_count": 14,
   "id": "81cd4f7a-1202-4e0d-b5ce-7320cdd239d6",
   "metadata": {
    "tags": []
   },
   "outputs": [],
   "source": [
    "# 继承pytorch的dataset\n",
    "class TestData(Dataset):\n",
    "    def __init__(self, csv_path, file_path, resize_height=224, resize_width=224, transform = None):\n",
    "        \n",
    "        self.resize_height = resize_height\n",
    "        self.resize_width = resize_width\n",
    "        self.file_path = file_path\n",
    "        self.transform = transform\n",
    "        self.to_tensor = transforms.ToTensor() #将数据转换成tensor形式\n",
    "\n",
    "        self.data_info = pd.read_csv(csv_path, header=None)  \n",
    "        # 文件第一列包含图像文件名称\n",
    "        self.image_arr = np.asarray(self.data_info.iloc[1:,0]) \n",
    "        # 计算 length\n",
    "        self.data_len = len(self.data_info.index) - 1\n",
    "        \n",
    "    def __getitem__(self, index):\n",
    "        # 从 image_arr中得到索引对应的文件名\n",
    "        single_image_name = self.image_arr[index]\n",
    "\n",
    "        # 读取图像文件\n",
    "        img_as_img = Image.open(self.file_path + single_image_name)\n",
    "       \n",
    "        transform = transforms.Compose([\n",
    "            transforms.Resize((224, 224)),\n",
    "            transforms.ToTensor()\n",
    "        ])\n",
    "        img_as_img = transform(img_as_img)\n",
    "\n",
    "\n",
    "        return img_as_img\n",
    "\n",
    "    def __len__(self):\n",
    "        return self.data_len"
   ]
  },
  {
   "cell_type": "code",
   "execution_count": 15,
   "id": "c2b82222-2d31-4b95-afee-816a52eb5b4a",
   "metadata": {
    "tags": []
   },
   "outputs": [],
   "source": [
    "train_transform = transforms.Compose([\n",
    "    transforms.RandomResizedCrop(224, scale=(0.08, 1.0), ratio=(3.0 / 4.0, 4.0 / 3.0)),\n",
    "    transforms.RandomHorizontalFlip(),\n",
    "    transforms.ColorJitter(brightness=0.4, contrast=0.4, saturation=0.4),\n",
    "    transforms.ToTensor(),\n",
    "    transforms.Normalize([0.485, 0.456, 0.406],[0.229, 0.224, 0.225])])\n",
    "val_test_transform = transforms.Compose([\n",
    "    transforms.Resize(256),\n",
    "    transforms.CenterCrop(224),\n",
    "    transforms.ToTensor(),\n",
    "    transforms.Normalize([0.485, 0.456, 0.406],[0.229, 0.224, 0.225])])"
   ]
  },
  {
   "cell_type": "code",
   "execution_count": 16,
   "id": "5ff757e9-0f79-4e96-bdb9-bbd931986ba9",
   "metadata": {
    "tags": []
   },
   "outputs": [
    {
     "name": "stdout",
     "output_type": "stream",
     "text": [
      "                      0                        1\n",
      "0                 image                    label\n",
      "1          images/0.jpg         maclura_pomifera\n",
      "2          images/1.jpg         maclura_pomifera\n",
      "3          images/2.jpg         maclura_pomifera\n",
      "4          images/3.jpg         maclura_pomifera\n",
      "...                 ...                      ...\n",
      "18349  images/18348.jpg          aesculus_glabra\n",
      "18350  images/18349.jpg  liquidambar_styraciflua\n",
      "18351  images/18350.jpg            cedrus_libani\n",
      "18352  images/18351.jpg      prunus_pensylvanica\n",
      "18353  images/18352.jpg          quercus_montana\n",
      "\n",
      "[18354 rows x 2 columns]\n",
      "                     0\n",
      "0                image\n",
      "1     images/18353.jpg\n",
      "2     images/18354.jpg\n",
      "3     images/18355.jpg\n",
      "4     images/18356.jpg\n",
      "...                ...\n",
      "8796  images/27148.jpg\n",
      "8797  images/27149.jpg\n",
      "8798  images/27150.jpg\n",
      "8799  images/27151.jpg\n",
      "8800  images/27152.jpg\n",
      "\n",
      "[8801 rows x 1 columns]\n"
     ]
    }
   ],
   "source": [
    "train_val_path = 'train.csv'\n",
    "test_path = 'test.csv'\n",
    "\n",
    "img_path = 'autodl-tmp/'\n",
    "\n",
    "train_val_dataset = TrainValidData(train_val_path, img_path)\n",
    "test_dataset = TestData(test_path, img_path, transform = val_test_transform)\n",
    "print(train_val_dataset.data_info)\n",
    "print(test_dataset.data_info)"
   ]
  },
  {
   "cell_type": "code",
   "execution_count": 17,
   "id": "fcd5ce6d-9c05-419f-b6c6-2a56ab03c1e8",
   "metadata": {
    "tags": []
   },
   "outputs": [],
   "source": [
    "def set_parameter_requires_grad(model, feature_extracting):\n",
    "    if feature_extracting:\n",
    "        model = model\n",
    "        for param in model.parameters():\n",
    "            param.requires_grad = False\n",
    "\n",
    "# ResNeSt模型,注意力机制模型\n",
    "def resnest_model(num_classes, feature_extract = False):\n",
    "    model_ft = resnest50(pretrained=True)\n",
    "    set_parameter_requires_grad(model_ft, feature_extract)\n",
    "    num_ftrs = model_ft.fc.in_features\n",
    "    model_ft.fc = nn.Sequential(nn.Linear(num_ftrs, num_classes))\n",
    "\n",
    "    return model_ft"
   ]
  },
  {
   "cell_type": "code",
   "execution_count": 18,
   "id": "d4facffd-8b52-4488-bd64-a115bf9b599f",
   "metadata": {
    "tags": []
   },
   "outputs": [
    {
     "name": "stdout",
     "output_type": "stream",
     "text": [
      "cuda\n"
     ]
    }
   ],
   "source": [
    "# 看一下是在cpu还是GPU上\n",
    "def get_device():\n",
    "    return 'cuda' if torch.cuda.is_available() else 'cpu'\n",
    "\n",
    "device = get_device()\n",
    "print(device)"
   ]
  },
  {
   "cell_type": "code",
   "execution_count": 17,
   "id": "c9f4a362-58b5-4a61-97e8-406bc25fc990",
   "metadata": {
    "tags": []
   },
   "outputs": [],
   "source": [
    "k_folds = 5\n",
    "num_epochs = 30\n",
    "learning_rate = 1e-4\n",
    "weight_decay = 1e-3\n",
    "train_loss_function = CutMixCrossEntropyLoss(True)\n",
    "valid_loss_function = nn.CrossEntropyLoss()\n",
    "# For fold results\n",
    "results = {}\n",
    "\n",
    "torch.manual_seed(42)\n",
    "\n",
    "kfold = KFold(n_splits=k_folds, shuffle=True)"
   ]
  },
  {
   "cell_type": "code",
   "execution_count": null,
   "id": "11bb94e5-56ed-4116-8980-b9130241ef81",
   "metadata": {
    "tags": []
   },
   "outputs": [],
   "source": [
    "print('--------------------------------------')\n",
    "\n",
    "for fold, (train_ids,valid_ids) in enumerate(kfold.split(train_val_dataset)):\n",
    "\n",
    "\n",
    "  print(f'FOLD {fold}')\n",
    "  print('--------------------------------------')\n",
    "\n",
    "  \n",
    "  train_subsampler = torch.utils.data.SubsetRandomSampler(train_ids)\n",
    "  valid_subsampler = torch.utils.data.SubsetRandomSampler(valid_ids)\n",
    "\n",
    "  \n",
    "  trainloader = torch.utils.data.DataLoader(\n",
    "                      CutMix(TrainValidData(train_val_path, img_path, transform = train_transform), num_class=176, beta=1.0, prob=0.5, num_mix=2), \n",
    "                      batch_size=32, sampler=train_subsampler, num_workers=0)\n",
    "  validloader = torch.utils.data.DataLoader(\n",
    "                      TrainValidData(train_val_path, img_path, transform = val_test_transform),\n",
    "                      batch_size=32, sampler=valid_subsampler, num_workers=0)\n",
    "  \n",
    "  model = resnest_model(176)\n",
    "  model = model.to(device)\n",
    "  model.device = device\n",
    "  \n",
    "  optimizer = torch.optim.AdamW(model.parameters(),lr=learning_rate,weight_decay= weight_decay)\n",
    "  scheduler = CosineAnnealingLR(optimizer,T_max=10)\n",
    "\n",
    "  # Run the training loop for defined number of epochs\n",
    "  for epoch in range(0,num_epochs):\n",
    "    model.train()\n",
    "    # Print epoch\n",
    "    print(f'Starting epoch {epoch+1}')\n",
    "    # These are used to record information in training\n",
    "    train_losses = []\n",
    "    train_accs = []\n",
    "    # Iterate the training set by batches\n",
    "    for batch in tqdm(trainloader):\n",
    "      # Move images and labels to GPU\n",
    "      imgs, labels = batch\n",
    "      imgs = imgs.to(device)\n",
    "      labels = labels.to(device)\n",
    "      # Forward the data\n",
    "      logits = model(imgs)\n",
    "      # Calculate loss\n",
    "      loss = train_loss_function(logits,labels)\n",
    "      # Clear gradients in previous step\n",
    "      optimizer.zero_grad()\n",
    "      # Compute gradients for parameters\n",
    "      loss.backward()\n",
    "      # Update the parameters with computed gradients\n",
    "      optimizer.step()\n",
    "      # Compute the accuracy for current batch.\n",
    "      # acc = (logits.argmax(dim=-1) == labels).float().mean()\n",
    "      # Record the loss and accuracy.\n",
    "      train_losses.append(loss.item())\n",
    "      # train_accs.append(acc)\n",
    "    print(\"第%d个epoch的学习率：%f\" % (epoch+1,optimizer.param_groups[0]['lr']))\n",
    "    scheduler.step()\n",
    "    # The average loss and accuracy of the training set is the average of the recorded values.\n",
    "    train_loss = np.sum(train_losses) / len(train_losses)\n",
    "    # train_acc = np.sum(train_accs) / len(train_accs)\n",
    "    # Print the information.\n",
    "    # print(f\"[ Train | {epoch + 1:03d}/{num_epochs:03d} ] loss = {train_loss:.5f}, acc = {train_acc:.5f}\")\n",
    "    print(f\"[ Train | {epoch + 1:03d}/{num_epochs:03d} ] loss = {train_loss:.5f}\")\n",
    "\n",
    "  # Train process (all epochs) is complete\n",
    "  print('Training process has finished. Saving trained model.')\n",
    "  print('Starting validation')\n",
    "\n",
    "  # Saving the model\n",
    "  print('saving model with loss {:.3f}'.format(train_loss))\n",
    "  save_path = f'./model-fold-{fold}.pth'\n",
    "  torch.save(model.state_dict(),save_path)\n",
    "  # Start Validation\n",
    "  model.eval()\n",
    "  valid_losses = []\n",
    "  valid_accs = []\n",
    "  with torch.no_grad():\n",
    "    for batch in tqdm(validloader):\n",
    "      imgs, labels = batch\n",
    "      # No gradient in validation\n",
    "      logits = model(imgs.to(device))\n",
    "      loss = valid_loss_function(logits,labels.to(device))\n",
    "      acc = (logits.argmax(dim=-1) == labels.to(device)).float().mean()\n",
    "      # Record loss and accuracy\n",
    "      valid_losses.append(loss.item())        \n",
    "      valid_accs.append(acc.cpu().numpy())\n",
    "    # The average loss and accuracy\n",
    "    valid_loss = np.sum(valid_losses)/len(valid_losses)\n",
    "    valid_acc = np.sum(valid_accs)/len(valid_accs)\n",
    "    print(f\"[ Valid | {epoch + 1:03d}/{num_epochs:03d} ] loss = {valid_loss:.5f}, acc = {valid_acc:.5f}\")\n",
    "    print('Accuracy for fold %d: %d' % (fold, valid_acc))\n",
    "    print('--------------------------------------')\n",
    "    results[fold] = valid_acc\n",
    "# Print fold results\n",
    "print(f'K-FOLD CROSS VALIDATION RESULTS FOR {k_folds} FOLDS')\n",
    "print('--------------------------------')\n",
    "total_summation = 0.0\n",
    "for key, value in results.items():\n",
    "  print(f'Fold {key}: {value} ')\n",
    "  total_summation += value\n",
    "print(f'Average: {total_summation/len(results.items())} ')"
   ]
  },
  {
   "cell_type": "code",
   "execution_count": 19,
   "id": "5f0e0880-8200-42a0-bb6b-dc10c1722aad",
   "metadata": {
    "tags": []
   },
   "outputs": [],
   "source": [
    "testloader = torch.utils.data.DataLoader(\n",
    "                      TestData(test_path, img_path, transform = val_test_transform),\n",
    "                      batch_size=32, num_workers=0)"
   ]
  },
  {
   "cell_type": "code",
   "execution_count": 20,
   "id": "02d1d3ce-ba53-4bff-8d03-2e008535efe7",
   "metadata": {
    "tags": []
   },
   "outputs": [
    {
     "name": "stderr",
     "output_type": "stream",
     "text": [
      "100%|██████████| 275/275 [00:38<00:00,  7.09it/s]\n"
     ]
    },
    {
     "name": "stdout",
     "output_type": "stream",
     "text": [
      "ResNeSt Model Results Done!!!!!!!!!!!!!!!!!!!!!!!!!!!\n"
     ]
    },
    {
     "name": "stderr",
     "output_type": "stream",
     "text": [
      "100%|██████████| 275/275 [00:38<00:00,  7.15it/s]\n"
     ]
    },
    {
     "name": "stdout",
     "output_type": "stream",
     "text": [
      "ResNeSt Model Results Done!!!!!!!!!!!!!!!!!!!!!!!!!!!\n"
     ]
    },
    {
     "name": "stderr",
     "output_type": "stream",
     "text": [
      "100%|██████████| 275/275 [00:40<00:00,  6.80it/s]\n"
     ]
    },
    {
     "name": "stdout",
     "output_type": "stream",
     "text": [
      "ResNeSt Model Results Done!!!!!!!!!!!!!!!!!!!!!!!!!!!\n"
     ]
    },
    {
     "name": "stderr",
     "output_type": "stream",
     "text": [
      "100%|██████████| 275/275 [00:40<00:00,  6.78it/s]\n"
     ]
    },
    {
     "name": "stdout",
     "output_type": "stream",
     "text": [
      "ResNeSt Model Results Done!!!!!!!!!!!!!!!!!!!!!!!!!!!\n"
     ]
    },
    {
     "name": "stderr",
     "output_type": "stream",
     "text": [
      "100%|██████████| 275/275 [00:39<00:00,  6.96it/s]"
     ]
    },
    {
     "name": "stdout",
     "output_type": "stream",
     "text": [
      "ResNeSt Model Results Done!!!!!!!!!!!!!!!!!!!!!!!!!!!\n"
     ]
    },
    {
     "name": "stderr",
     "output_type": "stream",
     "text": [
      "\n"
     ]
    }
   ],
   "source": [
    "## predict\n",
    "model = resnest_model(176)\n",
    "\n",
    "# create model and load weights from checkpoint\n",
    "model = model.to(device)\n",
    "# load the all folds\n",
    "for test_fold in range(k_folds):\n",
    "  model_path = f'./model-fold-{test_fold}.pth'\n",
    "  saveFileName = f'./submission-fold-{test_fold}.csv'\n",
    "  model.load_state_dict(torch.load(model_path))\n",
    "\n",
    "  # Make sure the model is in eval mode.\n",
    "  # Some modules like Dropout or BatchNorm affect if the model is in training mode.\n",
    "  model.eval()\n",
    "  tta_model = tta.ClassificationTTAWrapper(model, tta.aliases.five_crop_transform(200,200)) # Test-Time Augmentation\n",
    "\n",
    "  # Initialize a list to store the predictions.\n",
    "  predictions = []\n",
    "  # Iterate the testing set by batches.\n",
    "  for batch in tqdm(testloader):\n",
    "      \n",
    "      imgs = batch\n",
    "      with torch.no_grad():\n",
    "          logits = tta_model(imgs.to(device))\n",
    "      \n",
    "      # Take the class with greatest logit as prediction and record it.\n",
    "      predictions.extend(logits.argmax(dim=-1).cpu().numpy().tolist())\n",
    "\n",
    "  preds = []\n",
    "  for i in predictions:\n",
    "      preds.append(num_to_class[i])\n",
    "\n",
    "  test_data = pd.read_csv(test_path)\n",
    "  test_data['label'] = pd.Series(preds)\n",
    "  submission = pd.concat([test_data['image'], test_data['label']], axis=1)\n",
    "  submission.to_csv(saveFileName, index=False)\n",
    "  print(\"ResNeSt Model Results Done!!!!!!!!!!!!!!!!!!!!!!!!!!!\")"
   ]
  },
  {
   "cell_type": "code",
   "execution_count": 21,
   "id": "414af655-22b4-4037-9bb5-beb32ce02225",
   "metadata": {
    "tags": []
   },
   "outputs": [],
   "source": [
    "# 读取5折交叉验证的结果\n",
    "df0 = pd.read_csv('./submission-fold-0.csv')\n",
    "df1 = pd.read_csv('./submission-fold-1.csv')\n",
    "df2 = pd.read_csv('./submission-fold-2.csv')\n",
    "df3 = pd.read_csv('./submission-fold-3.csv')\n",
    "df4 = pd.read_csv('./submission-fold-4.csv')"
   ]
  },
  {
   "cell_type": "code",
   "execution_count": 22,
   "id": "71870bf9-eed2-46ef-9693-10c9353bebcc",
   "metadata": {
    "tags": []
   },
   "outputs": [
    {
     "data": {
      "text/html": [
       "<div>\n",
       "<style scoped>\n",
       "    .dataframe tbody tr th:only-of-type {\n",
       "        vertical-align: middle;\n",
       "    }\n",
       "\n",
       "    .dataframe tbody tr th {\n",
       "        vertical-align: top;\n",
       "    }\n",
       "\n",
       "    .dataframe thead th {\n",
       "        text-align: right;\n",
       "    }\n",
       "</style>\n",
       "<table border=\"1\" class=\"dataframe\">\n",
       "  <thead>\n",
       "    <tr style=\"text-align: right;\">\n",
       "      <th></th>\n",
       "      <th>image</th>\n",
       "      <th>label</th>\n",
       "      <th>num_label0</th>\n",
       "    </tr>\n",
       "  </thead>\n",
       "  <tbody>\n",
       "    <tr>\n",
       "      <th>0</th>\n",
       "      <td>images/18353.jpg</td>\n",
       "      <td>asimina_triloba</td>\n",
       "      <td>22</td>\n",
       "    </tr>\n",
       "    <tr>\n",
       "      <th>1</th>\n",
       "      <td>images/18354.jpg</td>\n",
       "      <td>betula_nigra</td>\n",
       "      <td>26</td>\n",
       "    </tr>\n",
       "    <tr>\n",
       "      <th>2</th>\n",
       "      <td>images/18355.jpg</td>\n",
       "      <td>platanus_acerifolia</td>\n",
       "      <td>120</td>\n",
       "    </tr>\n",
       "    <tr>\n",
       "      <th>3</th>\n",
       "      <td>images/18356.jpg</td>\n",
       "      <td>pinus_bungeana</td>\n",
       "      <td>102</td>\n",
       "    </tr>\n",
       "    <tr>\n",
       "      <th>4</th>\n",
       "      <td>images/18357.jpg</td>\n",
       "      <td>platanus_acerifolia</td>\n",
       "      <td>120</td>\n",
       "    </tr>\n",
       "  </tbody>\n",
       "</table>\n",
       "</div>"
      ],
      "text/plain": [
       "              image                label  num_label0\n",
       "0  images/18353.jpg      asimina_triloba          22\n",
       "1  images/18354.jpg         betula_nigra          26\n",
       "2  images/18355.jpg  platanus_acerifolia         120\n",
       "3  images/18356.jpg       pinus_bungeana         102\n",
       "4  images/18357.jpg  platanus_acerifolia         120"
      ]
     },
     "execution_count": 22,
     "metadata": {},
     "output_type": "execute_result"
    }
   ],
   "source": [
    "# 往第0折结果里添加数字化标签列\n",
    "list_num_label0 = []\n",
    "for i in df0['label']:\n",
    "  list_num_label0.append(class_to_num[i])\n",
    "df0['num_label0']=list_num_label0\n",
    "df0.head()"
   ]
  },
  {
   "cell_type": "code",
   "execution_count": 23,
   "id": "65e58151-e00e-4fb4-855e-e23c5e818a8c",
   "metadata": {
    "tags": []
   },
   "outputs": [
    {
     "data": {
      "text/html": [
       "<div>\n",
       "<style scoped>\n",
       "    .dataframe tbody tr th:only-of-type {\n",
       "        vertical-align: middle;\n",
       "    }\n",
       "\n",
       "    .dataframe tbody tr th {\n",
       "        vertical-align: top;\n",
       "    }\n",
       "\n",
       "    .dataframe thead th {\n",
       "        text-align: right;\n",
       "    }\n",
       "</style>\n",
       "<table border=\"1\" class=\"dataframe\">\n",
       "  <thead>\n",
       "    <tr style=\"text-align: right;\">\n",
       "      <th></th>\n",
       "      <th>image</th>\n",
       "      <th>label</th>\n",
       "      <th>num_label1</th>\n",
       "    </tr>\n",
       "  </thead>\n",
       "  <tbody>\n",
       "    <tr>\n",
       "      <th>0</th>\n",
       "      <td>images/18353.jpg</td>\n",
       "      <td>asimina_triloba</td>\n",
       "      <td>22</td>\n",
       "    </tr>\n",
       "    <tr>\n",
       "      <th>1</th>\n",
       "      <td>images/18354.jpg</td>\n",
       "      <td>betula_nigra</td>\n",
       "      <td>26</td>\n",
       "    </tr>\n",
       "    <tr>\n",
       "      <th>2</th>\n",
       "      <td>images/18355.jpg</td>\n",
       "      <td>platanus_acerifolia</td>\n",
       "      <td>120</td>\n",
       "    </tr>\n",
       "    <tr>\n",
       "      <th>3</th>\n",
       "      <td>images/18356.jpg</td>\n",
       "      <td>pinus_bungeana</td>\n",
       "      <td>102</td>\n",
       "    </tr>\n",
       "    <tr>\n",
       "      <th>4</th>\n",
       "      <td>images/18357.jpg</td>\n",
       "      <td>platanus_acerifolia</td>\n",
       "      <td>120</td>\n",
       "    </tr>\n",
       "  </tbody>\n",
       "</table>\n",
       "</div>"
      ],
      "text/plain": [
       "              image                label  num_label1\n",
       "0  images/18353.jpg      asimina_triloba          22\n",
       "1  images/18354.jpg         betula_nigra          26\n",
       "2  images/18355.jpg  platanus_acerifolia         120\n",
       "3  images/18356.jpg       pinus_bungeana         102\n",
       "4  images/18357.jpg  platanus_acerifolia         120"
      ]
     },
     "execution_count": 23,
     "metadata": {},
     "output_type": "execute_result"
    }
   ],
   "source": [
    "# 往第1折结果里添加数字化标签列\n",
    "list_num_label1 = []\n",
    "for i in df1['label']:\n",
    "  list_num_label1.append(class_to_num[i])\n",
    "df1['num_label1']=list_num_label1\n",
    "df1.head()"
   ]
  },
  {
   "cell_type": "code",
   "execution_count": 24,
   "id": "5ed4b81d-34ed-4836-88a7-ec2f9f576b3a",
   "metadata": {
    "tags": []
   },
   "outputs": [
    {
     "data": {
      "text/html": [
       "<div>\n",
       "<style scoped>\n",
       "    .dataframe tbody tr th:only-of-type {\n",
       "        vertical-align: middle;\n",
       "    }\n",
       "\n",
       "    .dataframe tbody tr th {\n",
       "        vertical-align: top;\n",
       "    }\n",
       "\n",
       "    .dataframe thead th {\n",
       "        text-align: right;\n",
       "    }\n",
       "</style>\n",
       "<table border=\"1\" class=\"dataframe\">\n",
       "  <thead>\n",
       "    <tr style=\"text-align: right;\">\n",
       "      <th></th>\n",
       "      <th>image</th>\n",
       "      <th>label</th>\n",
       "      <th>num_label2</th>\n",
       "    </tr>\n",
       "  </thead>\n",
       "  <tbody>\n",
       "    <tr>\n",
       "      <th>0</th>\n",
       "      <td>images/18353.jpg</td>\n",
       "      <td>asimina_triloba</td>\n",
       "      <td>22</td>\n",
       "    </tr>\n",
       "    <tr>\n",
       "      <th>1</th>\n",
       "      <td>images/18354.jpg</td>\n",
       "      <td>betula_nigra</td>\n",
       "      <td>26</td>\n",
       "    </tr>\n",
       "    <tr>\n",
       "      <th>2</th>\n",
       "      <td>images/18355.jpg</td>\n",
       "      <td>platanus_acerifolia</td>\n",
       "      <td>120</td>\n",
       "    </tr>\n",
       "    <tr>\n",
       "      <th>3</th>\n",
       "      <td>images/18356.jpg</td>\n",
       "      <td>pinus_bungeana</td>\n",
       "      <td>102</td>\n",
       "    </tr>\n",
       "    <tr>\n",
       "      <th>4</th>\n",
       "      <td>images/18357.jpg</td>\n",
       "      <td>platanus_acerifolia</td>\n",
       "      <td>120</td>\n",
       "    </tr>\n",
       "  </tbody>\n",
       "</table>\n",
       "</div>"
      ],
      "text/plain": [
       "              image                label  num_label2\n",
       "0  images/18353.jpg      asimina_triloba          22\n",
       "1  images/18354.jpg         betula_nigra          26\n",
       "2  images/18355.jpg  platanus_acerifolia         120\n",
       "3  images/18356.jpg       pinus_bungeana         102\n",
       "4  images/18357.jpg  platanus_acerifolia         120"
      ]
     },
     "execution_count": 24,
     "metadata": {},
     "output_type": "execute_result"
    }
   ],
   "source": [
    "# 往第2折结果里添加数字化标签列\n",
    "list_num_label2 = []\n",
    "for i in df2['label']:\n",
    "  list_num_label2.append(class_to_num[i])\n",
    "df2['num_label2']=list_num_label2\n",
    "df2.head()"
   ]
  },
  {
   "cell_type": "code",
   "execution_count": 25,
   "id": "bf1c4e86-4daf-43e9-a5c0-eed0f4e819a7",
   "metadata": {
    "tags": []
   },
   "outputs": [
    {
     "data": {
      "text/html": [
       "<div>\n",
       "<style scoped>\n",
       "    .dataframe tbody tr th:only-of-type {\n",
       "        vertical-align: middle;\n",
       "    }\n",
       "\n",
       "    .dataframe tbody tr th {\n",
       "        vertical-align: top;\n",
       "    }\n",
       "\n",
       "    .dataframe thead th {\n",
       "        text-align: right;\n",
       "    }\n",
       "</style>\n",
       "<table border=\"1\" class=\"dataframe\">\n",
       "  <thead>\n",
       "    <tr style=\"text-align: right;\">\n",
       "      <th></th>\n",
       "      <th>image</th>\n",
       "      <th>label</th>\n",
       "      <th>num_label3</th>\n",
       "    </tr>\n",
       "  </thead>\n",
       "  <tbody>\n",
       "    <tr>\n",
       "      <th>0</th>\n",
       "      <td>images/18353.jpg</td>\n",
       "      <td>asimina_triloba</td>\n",
       "      <td>22</td>\n",
       "    </tr>\n",
       "    <tr>\n",
       "      <th>1</th>\n",
       "      <td>images/18354.jpg</td>\n",
       "      <td>betula_nigra</td>\n",
       "      <td>26</td>\n",
       "    </tr>\n",
       "    <tr>\n",
       "      <th>2</th>\n",
       "      <td>images/18355.jpg</td>\n",
       "      <td>platanus_acerifolia</td>\n",
       "      <td>120</td>\n",
       "    </tr>\n",
       "    <tr>\n",
       "      <th>3</th>\n",
       "      <td>images/18356.jpg</td>\n",
       "      <td>pinus_bungeana</td>\n",
       "      <td>102</td>\n",
       "    </tr>\n",
       "    <tr>\n",
       "      <th>4</th>\n",
       "      <td>images/18357.jpg</td>\n",
       "      <td>platanus_acerifolia</td>\n",
       "      <td>120</td>\n",
       "    </tr>\n",
       "  </tbody>\n",
       "</table>\n",
       "</div>"
      ],
      "text/plain": [
       "              image                label  num_label3\n",
       "0  images/18353.jpg      asimina_triloba          22\n",
       "1  images/18354.jpg         betula_nigra          26\n",
       "2  images/18355.jpg  platanus_acerifolia         120\n",
       "3  images/18356.jpg       pinus_bungeana         102\n",
       "4  images/18357.jpg  platanus_acerifolia         120"
      ]
     },
     "execution_count": 25,
     "metadata": {},
     "output_type": "execute_result"
    }
   ],
   "source": [
    "# 往第3折结果里添加数字化标签列\n",
    "list_num_label3 = []\n",
    "for i in df3['label']:\n",
    "  list_num_label3.append(class_to_num[i])\n",
    "df3['num_label3']=list_num_label3\n",
    "df3.head()"
   ]
  },
  {
   "cell_type": "code",
   "execution_count": 26,
   "id": "243cc252-bcb4-44b2-a160-b1582225ff42",
   "metadata": {
    "tags": []
   },
   "outputs": [
    {
     "data": {
      "text/html": [
       "<div>\n",
       "<style scoped>\n",
       "    .dataframe tbody tr th:only-of-type {\n",
       "        vertical-align: middle;\n",
       "    }\n",
       "\n",
       "    .dataframe tbody tr th {\n",
       "        vertical-align: top;\n",
       "    }\n",
       "\n",
       "    .dataframe thead th {\n",
       "        text-align: right;\n",
       "    }\n",
       "</style>\n",
       "<table border=\"1\" class=\"dataframe\">\n",
       "  <thead>\n",
       "    <tr style=\"text-align: right;\">\n",
       "      <th></th>\n",
       "      <th>image</th>\n",
       "      <th>label</th>\n",
       "      <th>num_label4</th>\n",
       "    </tr>\n",
       "  </thead>\n",
       "  <tbody>\n",
       "    <tr>\n",
       "      <th>0</th>\n",
       "      <td>images/18353.jpg</td>\n",
       "      <td>asimina_triloba</td>\n",
       "      <td>22</td>\n",
       "    </tr>\n",
       "    <tr>\n",
       "      <th>1</th>\n",
       "      <td>images/18354.jpg</td>\n",
       "      <td>betula_nigra</td>\n",
       "      <td>26</td>\n",
       "    </tr>\n",
       "    <tr>\n",
       "      <th>2</th>\n",
       "      <td>images/18355.jpg</td>\n",
       "      <td>platanus_acerifolia</td>\n",
       "      <td>120</td>\n",
       "    </tr>\n",
       "    <tr>\n",
       "      <th>3</th>\n",
       "      <td>images/18356.jpg</td>\n",
       "      <td>pinus_bungeana</td>\n",
       "      <td>102</td>\n",
       "    </tr>\n",
       "    <tr>\n",
       "      <th>4</th>\n",
       "      <td>images/18357.jpg</td>\n",
       "      <td>platanus_acerifolia</td>\n",
       "      <td>120</td>\n",
       "    </tr>\n",
       "  </tbody>\n",
       "</table>\n",
       "</div>"
      ],
      "text/plain": [
       "              image                label  num_label4\n",
       "0  images/18353.jpg      asimina_triloba          22\n",
       "1  images/18354.jpg         betula_nigra          26\n",
       "2  images/18355.jpg  platanus_acerifolia         120\n",
       "3  images/18356.jpg       pinus_bungeana         102\n",
       "4  images/18357.jpg  platanus_acerifolia         120"
      ]
     },
     "execution_count": 26,
     "metadata": {},
     "output_type": "execute_result"
    }
   ],
   "source": [
    "# 往第4折结果里添加数字化标签列\n",
    "list_num_label4 = []\n",
    "for i in df4['label']:\n",
    "  list_num_label4.append(class_to_num[i])\n",
    "df4['num_label4']=list_num_label4\n",
    "df4.head()"
   ]
  },
  {
   "cell_type": "code",
   "execution_count": 27,
   "id": "a12694c6-35be-472f-9aec-554a0b10b683",
   "metadata": {
    "tags": []
   },
   "outputs": [
    {
     "data": {
      "text/html": [
       "<div>\n",
       "<style scoped>\n",
       "    .dataframe tbody tr th:only-of-type {\n",
       "        vertical-align: middle;\n",
       "    }\n",
       "\n",
       "    .dataframe tbody tr th {\n",
       "        vertical-align: top;\n",
       "    }\n",
       "\n",
       "    .dataframe thead th {\n",
       "        text-align: right;\n",
       "    }\n",
       "</style>\n",
       "<table border=\"1\" class=\"dataframe\">\n",
       "  <thead>\n",
       "    <tr style=\"text-align: right;\">\n",
       "      <th></th>\n",
       "      <th>image</th>\n",
       "      <th>num_label0</th>\n",
       "    </tr>\n",
       "  </thead>\n",
       "  <tbody>\n",
       "    <tr>\n",
       "      <th>0</th>\n",
       "      <td>images/18353.jpg</td>\n",
       "      <td>22</td>\n",
       "    </tr>\n",
       "    <tr>\n",
       "      <th>1</th>\n",
       "      <td>images/18354.jpg</td>\n",
       "      <td>26</td>\n",
       "    </tr>\n",
       "    <tr>\n",
       "      <th>2</th>\n",
       "      <td>images/18355.jpg</td>\n",
       "      <td>120</td>\n",
       "    </tr>\n",
       "    <tr>\n",
       "      <th>3</th>\n",
       "      <td>images/18356.jpg</td>\n",
       "      <td>102</td>\n",
       "    </tr>\n",
       "    <tr>\n",
       "      <th>4</th>\n",
       "      <td>images/18357.jpg</td>\n",
       "      <td>120</td>\n",
       "    </tr>\n",
       "  </tbody>\n",
       "</table>\n",
       "</div>"
      ],
      "text/plain": [
       "              image  num_label0\n",
       "0  images/18353.jpg          22\n",
       "1  images/18354.jpg          26\n",
       "2  images/18355.jpg         120\n",
       "3  images/18356.jpg         102\n",
       "4  images/18357.jpg         120"
      ]
     },
     "execution_count": 27,
     "metadata": {},
     "output_type": "execute_result"
    }
   ],
   "source": [
    "# 准备整合5折的结果到同一个DataFrame\n",
    "df_all = df0.copy()\n",
    "df_all.drop(['label'],axis=1,inplace=True)\n",
    "df_all.head()"
   ]
  },
  {
   "cell_type": "code",
   "execution_count": 28,
   "id": "d10e768c-4776-41eb-8853-a3c4df8d6bb8",
   "metadata": {
    "tags": []
   },
   "outputs": [
    {
     "data": {
      "text/html": [
       "<div>\n",
       "<style scoped>\n",
       "    .dataframe tbody tr th:only-of-type {\n",
       "        vertical-align: middle;\n",
       "    }\n",
       "\n",
       "    .dataframe tbody tr th {\n",
       "        vertical-align: top;\n",
       "    }\n",
       "\n",
       "    .dataframe thead th {\n",
       "        text-align: right;\n",
       "    }\n",
       "</style>\n",
       "<table border=\"1\" class=\"dataframe\">\n",
       "  <thead>\n",
       "    <tr style=\"text-align: right;\">\n",
       "      <th></th>\n",
       "      <th>image</th>\n",
       "      <th>num_label0</th>\n",
       "      <th>num_label1</th>\n",
       "      <th>num_label2</th>\n",
       "      <th>num_label3</th>\n",
       "      <th>num_label4</th>\n",
       "    </tr>\n",
       "  </thead>\n",
       "  <tbody>\n",
       "    <tr>\n",
       "      <th>0</th>\n",
       "      <td>images/18353.jpg</td>\n",
       "      <td>22</td>\n",
       "      <td>22</td>\n",
       "      <td>22</td>\n",
       "      <td>22</td>\n",
       "      <td>22</td>\n",
       "    </tr>\n",
       "    <tr>\n",
       "      <th>1</th>\n",
       "      <td>images/18354.jpg</td>\n",
       "      <td>26</td>\n",
       "      <td>26</td>\n",
       "      <td>26</td>\n",
       "      <td>26</td>\n",
       "      <td>26</td>\n",
       "    </tr>\n",
       "    <tr>\n",
       "      <th>2</th>\n",
       "      <td>images/18355.jpg</td>\n",
       "      <td>120</td>\n",
       "      <td>120</td>\n",
       "      <td>120</td>\n",
       "      <td>120</td>\n",
       "      <td>120</td>\n",
       "    </tr>\n",
       "    <tr>\n",
       "      <th>3</th>\n",
       "      <td>images/18356.jpg</td>\n",
       "      <td>102</td>\n",
       "      <td>102</td>\n",
       "      <td>102</td>\n",
       "      <td>102</td>\n",
       "      <td>102</td>\n",
       "    </tr>\n",
       "    <tr>\n",
       "      <th>4</th>\n",
       "      <td>images/18357.jpg</td>\n",
       "      <td>120</td>\n",
       "      <td>120</td>\n",
       "      <td>120</td>\n",
       "      <td>120</td>\n",
       "      <td>120</td>\n",
       "    </tr>\n",
       "  </tbody>\n",
       "</table>\n",
       "</div>"
      ],
      "text/plain": [
       "              image  num_label0  num_label1  num_label2  num_label3  \\\n",
       "0  images/18353.jpg          22          22          22          22   \n",
       "1  images/18354.jpg          26          26          26          26   \n",
       "2  images/18355.jpg         120         120         120         120   \n",
       "3  images/18356.jpg         102         102         102         102   \n",
       "4  images/18357.jpg         120         120         120         120   \n",
       "\n",
       "   num_label4  \n",
       "0          22  \n",
       "1          26  \n",
       "2         120  \n",
       "3         102  \n",
       "4         120  "
      ]
     },
     "execution_count": 28,
     "metadata": {},
     "output_type": "execute_result"
    }
   ],
   "source": [
    "# 整合5折的数字化标签结果到同一个DataFrame\n",
    "df_all['num_label1']=list_num_label1\n",
    "df_all['num_label2']=list_num_label2\n",
    "df_all['num_label3']=list_num_label3\n",
    "df_all['num_label4']=list_num_label4\n",
    "df_all.head()"
   ]
  },
  {
   "cell_type": "code",
   "execution_count": 29,
   "id": "0e7a9f33-c0c7-439f-9abb-614b08b5f5c8",
   "metadata": {
    "tags": []
   },
   "outputs": [
    {
     "data": {
      "text/html": [
       "<div>\n",
       "<style scoped>\n",
       "    .dataframe tbody tr th:only-of-type {\n",
       "        vertical-align: middle;\n",
       "    }\n",
       "\n",
       "    .dataframe tbody tr th {\n",
       "        vertical-align: top;\n",
       "    }\n",
       "\n",
       "    .dataframe thead th {\n",
       "        text-align: right;\n",
       "    }\n",
       "</style>\n",
       "<table border=\"1\" class=\"dataframe\">\n",
       "  <thead>\n",
       "    <tr style=\"text-align: right;\">\n",
       "      <th></th>\n",
       "      <th>0</th>\n",
       "      <th>1</th>\n",
       "      <th>2</th>\n",
       "      <th>3</th>\n",
       "      <th>4</th>\n",
       "      <th>5</th>\n",
       "      <th>6</th>\n",
       "      <th>7</th>\n",
       "      <th>8</th>\n",
       "      <th>9</th>\n",
       "      <th>...</th>\n",
       "      <th>8790</th>\n",
       "      <th>8791</th>\n",
       "      <th>8792</th>\n",
       "      <th>8793</th>\n",
       "      <th>8794</th>\n",
       "      <th>8795</th>\n",
       "      <th>8796</th>\n",
       "      <th>8797</th>\n",
       "      <th>8798</th>\n",
       "      <th>8799</th>\n",
       "    </tr>\n",
       "  </thead>\n",
       "  <tbody>\n",
       "    <tr>\n",
       "      <th>num_label0</th>\n",
       "      <td>22</td>\n",
       "      <td>26</td>\n",
       "      <td>120</td>\n",
       "      <td>102</td>\n",
       "      <td>120</td>\n",
       "      <td>74</td>\n",
       "      <td>83</td>\n",
       "      <td>91</td>\n",
       "      <td>165</td>\n",
       "      <td>169</td>\n",
       "      <td>...</td>\n",
       "      <td>117</td>\n",
       "      <td>53</td>\n",
       "      <td>117</td>\n",
       "      <td>53</td>\n",
       "      <td>73</td>\n",
       "      <td>117</td>\n",
       "      <td>53</td>\n",
       "      <td>117</td>\n",
       "      <td>73</td>\n",
       "      <td>73</td>\n",
       "    </tr>\n",
       "    <tr>\n",
       "      <th>num_label1</th>\n",
       "      <td>22</td>\n",
       "      <td>26</td>\n",
       "      <td>120</td>\n",
       "      <td>102</td>\n",
       "      <td>120</td>\n",
       "      <td>74</td>\n",
       "      <td>84</td>\n",
       "      <td>91</td>\n",
       "      <td>165</td>\n",
       "      <td>169</td>\n",
       "      <td>...</td>\n",
       "      <td>117</td>\n",
       "      <td>53</td>\n",
       "      <td>117</td>\n",
       "      <td>53</td>\n",
       "      <td>73</td>\n",
       "      <td>119</td>\n",
       "      <td>53</td>\n",
       "      <td>117</td>\n",
       "      <td>73</td>\n",
       "      <td>73</td>\n",
       "    </tr>\n",
       "    <tr>\n",
       "      <th>num_label2</th>\n",
       "      <td>22</td>\n",
       "      <td>26</td>\n",
       "      <td>120</td>\n",
       "      <td>102</td>\n",
       "      <td>120</td>\n",
       "      <td>74</td>\n",
       "      <td>84</td>\n",
       "      <td>91</td>\n",
       "      <td>165</td>\n",
       "      <td>169</td>\n",
       "      <td>...</td>\n",
       "      <td>117</td>\n",
       "      <td>53</td>\n",
       "      <td>117</td>\n",
       "      <td>53</td>\n",
       "      <td>73</td>\n",
       "      <td>117</td>\n",
       "      <td>53</td>\n",
       "      <td>117</td>\n",
       "      <td>73</td>\n",
       "      <td>73</td>\n",
       "    </tr>\n",
       "    <tr>\n",
       "      <th>num_label3</th>\n",
       "      <td>22</td>\n",
       "      <td>26</td>\n",
       "      <td>120</td>\n",
       "      <td>102</td>\n",
       "      <td>120</td>\n",
       "      <td>74</td>\n",
       "      <td>84</td>\n",
       "      <td>91</td>\n",
       "      <td>165</td>\n",
       "      <td>169</td>\n",
       "      <td>...</td>\n",
       "      <td>117</td>\n",
       "      <td>53</td>\n",
       "      <td>117</td>\n",
       "      <td>53</td>\n",
       "      <td>73</td>\n",
       "      <td>117</td>\n",
       "      <td>53</td>\n",
       "      <td>117</td>\n",
       "      <td>73</td>\n",
       "      <td>73</td>\n",
       "    </tr>\n",
       "    <tr>\n",
       "      <th>num_label4</th>\n",
       "      <td>22</td>\n",
       "      <td>26</td>\n",
       "      <td>120</td>\n",
       "      <td>102</td>\n",
       "      <td>120</td>\n",
       "      <td>74</td>\n",
       "      <td>84</td>\n",
       "      <td>91</td>\n",
       "      <td>165</td>\n",
       "      <td>169</td>\n",
       "      <td>...</td>\n",
       "      <td>117</td>\n",
       "      <td>53</td>\n",
       "      <td>117</td>\n",
       "      <td>53</td>\n",
       "      <td>73</td>\n",
       "      <td>117</td>\n",
       "      <td>53</td>\n",
       "      <td>117</td>\n",
       "      <td>73</td>\n",
       "      <td>73</td>\n",
       "    </tr>\n",
       "  </tbody>\n",
       "</table>\n",
       "<p>5 rows × 8800 columns</p>\n",
       "</div>"
      ],
      "text/plain": [
       "            0     1     2     3     4     5     6     7     8     9     ...  \\\n",
       "num_label0    22    26   120   102   120    74    83    91   165   169  ...   \n",
       "num_label1    22    26   120   102   120    74    84    91   165   169  ...   \n",
       "num_label2    22    26   120   102   120    74    84    91   165   169  ...   \n",
       "num_label3    22    26   120   102   120    74    84    91   165   169  ...   \n",
       "num_label4    22    26   120   102   120    74    84    91   165   169  ...   \n",
       "\n",
       "            8790  8791  8792  8793  8794  8795  8796  8797  8798  8799  \n",
       "num_label0   117    53   117    53    73   117    53   117    73    73  \n",
       "num_label1   117    53   117    53    73   119    53   117    73    73  \n",
       "num_label2   117    53   117    53    73   117    53   117    73    73  \n",
       "num_label3   117    53   117    53    73   117    53   117    73    73  \n",
       "num_label4   117    53   117    53    73   117    53   117    73    73  \n",
       "\n",
       "[5 rows x 8800 columns]"
      ]
     },
     "execution_count": 29,
     "metadata": {},
     "output_type": "execute_result"
    }
   ],
   "source": [
    "# 对df_all进行转置，方便求众数\n",
    "df_all_transpose = df_all.copy().drop(['image'],axis=1).transpose()\n",
    "df_all_transpose.head()"
   ]
  },
  {
   "cell_type": "code",
   "execution_count": 30,
   "id": "6c685eaa-ce37-43e5-9f01-f646994d397a",
   "metadata": {
    "tags": []
   },
   "outputs": [
    {
     "data": {
      "text/html": [
       "<div>\n",
       "<style scoped>\n",
       "    .dataframe tbody tr th:only-of-type {\n",
       "        vertical-align: middle;\n",
       "    }\n",
       "\n",
       "    .dataframe tbody tr th {\n",
       "        vertical-align: top;\n",
       "    }\n",
       "\n",
       "    .dataframe thead th {\n",
       "        text-align: right;\n",
       "    }\n",
       "</style>\n",
       "<table border=\"1\" class=\"dataframe\">\n",
       "  <thead>\n",
       "    <tr style=\"text-align: right;\">\n",
       "      <th></th>\n",
       "      <th>0</th>\n",
       "      <th>1</th>\n",
       "      <th>2</th>\n",
       "      <th>3</th>\n",
       "      <th>4</th>\n",
       "    </tr>\n",
       "  </thead>\n",
       "  <tbody>\n",
       "    <tr>\n",
       "      <th>0</th>\n",
       "      <td>22.0</td>\n",
       "      <td>NaN</td>\n",
       "      <td>NaN</td>\n",
       "      <td>NaN</td>\n",
       "      <td>NaN</td>\n",
       "    </tr>\n",
       "    <tr>\n",
       "      <th>1</th>\n",
       "      <td>26.0</td>\n",
       "      <td>NaN</td>\n",
       "      <td>NaN</td>\n",
       "      <td>NaN</td>\n",
       "      <td>NaN</td>\n",
       "    </tr>\n",
       "    <tr>\n",
       "      <th>2</th>\n",
       "      <td>120.0</td>\n",
       "      <td>NaN</td>\n",
       "      <td>NaN</td>\n",
       "      <td>NaN</td>\n",
       "      <td>NaN</td>\n",
       "    </tr>\n",
       "    <tr>\n",
       "      <th>3</th>\n",
       "      <td>102.0</td>\n",
       "      <td>NaN</td>\n",
       "      <td>NaN</td>\n",
       "      <td>NaN</td>\n",
       "      <td>NaN</td>\n",
       "    </tr>\n",
       "    <tr>\n",
       "      <th>4</th>\n",
       "      <td>120.0</td>\n",
       "      <td>NaN</td>\n",
       "      <td>NaN</td>\n",
       "      <td>NaN</td>\n",
       "      <td>NaN</td>\n",
       "    </tr>\n",
       "  </tbody>\n",
       "</table>\n",
       "</div>"
      ],
      "text/plain": [
       "       0   1   2   3   4\n",
       "0   22.0 NaN NaN NaN NaN\n",
       "1   26.0 NaN NaN NaN NaN\n",
       "2  120.0 NaN NaN NaN NaN\n",
       "3  102.0 NaN NaN NaN NaN\n",
       "4  120.0 NaN NaN NaN NaN"
      ]
     },
     "execution_count": 30,
     "metadata": {},
     "output_type": "execute_result"
    }
   ],
   "source": [
    "# 求得投票众数\n",
    "df_mode = df_all_transpose.mode().transpose()\n",
    "df_mode.head()"
   ]
  },
  {
   "cell_type": "code",
   "execution_count": null,
   "id": "00010557-9d43-4bd8-82b0-5a20522a43c2",
   "metadata": {
    "tags": []
   },
   "outputs": [],
   "source": [
    "# 把投票结果的数字化标签转成字符串标签\n",
    "voting_class = []\n",
    "for each in df_mode[0]:\n",
    "  voting_class.append(num_to_class[each])\n",
    "voting_class"
   ]
  },
  {
   "cell_type": "code",
   "execution_count": 32,
   "id": "139d30a2-cc65-4984-9f3e-60d119f8bcc3",
   "metadata": {
    "tags": []
   },
   "outputs": [
    {
     "data": {
      "text/html": [
       "<div>\n",
       "<style scoped>\n",
       "    .dataframe tbody tr th:only-of-type {\n",
       "        vertical-align: middle;\n",
       "    }\n",
       "\n",
       "    .dataframe tbody tr th {\n",
       "        vertical-align: top;\n",
       "    }\n",
       "\n",
       "    .dataframe thead th {\n",
       "        text-align: right;\n",
       "    }\n",
       "</style>\n",
       "<table border=\"1\" class=\"dataframe\">\n",
       "  <thead>\n",
       "    <tr style=\"text-align: right;\">\n",
       "      <th></th>\n",
       "      <th>image</th>\n",
       "      <th>num_label0</th>\n",
       "      <th>num_label1</th>\n",
       "      <th>num_label2</th>\n",
       "      <th>num_label3</th>\n",
       "      <th>num_label4</th>\n",
       "      <th>label</th>\n",
       "    </tr>\n",
       "  </thead>\n",
       "  <tbody>\n",
       "    <tr>\n",
       "      <th>0</th>\n",
       "      <td>images/18353.jpg</td>\n",
       "      <td>22</td>\n",
       "      <td>22</td>\n",
       "      <td>22</td>\n",
       "      <td>22</td>\n",
       "      <td>22</td>\n",
       "      <td>asimina_triloba</td>\n",
       "    </tr>\n",
       "    <tr>\n",
       "      <th>1</th>\n",
       "      <td>images/18354.jpg</td>\n",
       "      <td>26</td>\n",
       "      <td>26</td>\n",
       "      <td>26</td>\n",
       "      <td>26</td>\n",
       "      <td>26</td>\n",
       "      <td>betula_nigra</td>\n",
       "    </tr>\n",
       "    <tr>\n",
       "      <th>2</th>\n",
       "      <td>images/18355.jpg</td>\n",
       "      <td>120</td>\n",
       "      <td>120</td>\n",
       "      <td>120</td>\n",
       "      <td>120</td>\n",
       "      <td>120</td>\n",
       "      <td>platanus_acerifolia</td>\n",
       "    </tr>\n",
       "    <tr>\n",
       "      <th>3</th>\n",
       "      <td>images/18356.jpg</td>\n",
       "      <td>102</td>\n",
       "      <td>102</td>\n",
       "      <td>102</td>\n",
       "      <td>102</td>\n",
       "      <td>102</td>\n",
       "      <td>pinus_bungeana</td>\n",
       "    </tr>\n",
       "    <tr>\n",
       "      <th>4</th>\n",
       "      <td>images/18357.jpg</td>\n",
       "      <td>120</td>\n",
       "      <td>120</td>\n",
       "      <td>120</td>\n",
       "      <td>120</td>\n",
       "      <td>120</td>\n",
       "      <td>platanus_acerifolia</td>\n",
       "    </tr>\n",
       "  </tbody>\n",
       "</table>\n",
       "</div>"
      ],
      "text/plain": [
       "              image  num_label0  num_label1  num_label2  num_label3  \\\n",
       "0  images/18353.jpg          22          22          22          22   \n",
       "1  images/18354.jpg          26          26          26          26   \n",
       "2  images/18355.jpg         120         120         120         120   \n",
       "3  images/18356.jpg         102         102         102         102   \n",
       "4  images/18357.jpg         120         120         120         120   \n",
       "\n",
       "   num_label4                label  \n",
       "0          22      asimina_triloba  \n",
       "1          26         betula_nigra  \n",
       "2         120  platanus_acerifolia  \n",
       "3         102       pinus_bungeana  \n",
       "4         120  platanus_acerifolia  "
      ]
     },
     "execution_count": 32,
     "metadata": {},
     "output_type": "execute_result"
    }
   ],
   "source": [
    "# 将投票结果的字符串标签添加到df_all中\n",
    "df_all['label'] = voting_class\n",
    "df_all.head()"
   ]
  },
  {
   "cell_type": "code",
   "execution_count": 33,
   "id": "79f0a25b-c381-48dc-b50e-51b218f86741",
   "metadata": {
    "tags": []
   },
   "outputs": [
    {
     "data": {
      "text/html": [
       "<div>\n",
       "<style scoped>\n",
       "    .dataframe tbody tr th:only-of-type {\n",
       "        vertical-align: middle;\n",
       "    }\n",
       "\n",
       "    .dataframe tbody tr th {\n",
       "        vertical-align: top;\n",
       "    }\n",
       "\n",
       "    .dataframe thead th {\n",
       "        text-align: right;\n",
       "    }\n",
       "</style>\n",
       "<table border=\"1\" class=\"dataframe\">\n",
       "  <thead>\n",
       "    <tr style=\"text-align: right;\">\n",
       "      <th></th>\n",
       "      <th>image</th>\n",
       "      <th>label</th>\n",
       "    </tr>\n",
       "  </thead>\n",
       "  <tbody>\n",
       "    <tr>\n",
       "      <th>0</th>\n",
       "      <td>images/18353.jpg</td>\n",
       "      <td>asimina_triloba</td>\n",
       "    </tr>\n",
       "    <tr>\n",
       "      <th>1</th>\n",
       "      <td>images/18354.jpg</td>\n",
       "      <td>betula_nigra</td>\n",
       "    </tr>\n",
       "    <tr>\n",
       "      <th>2</th>\n",
       "      <td>images/18355.jpg</td>\n",
       "      <td>platanus_acerifolia</td>\n",
       "    </tr>\n",
       "    <tr>\n",
       "      <th>3</th>\n",
       "      <td>images/18356.jpg</td>\n",
       "      <td>pinus_bungeana</td>\n",
       "    </tr>\n",
       "    <tr>\n",
       "      <th>4</th>\n",
       "      <td>images/18357.jpg</td>\n",
       "      <td>platanus_acerifolia</td>\n",
       "    </tr>\n",
       "  </tbody>\n",
       "</table>\n",
       "</div>"
      ],
      "text/plain": [
       "              image                label\n",
       "0  images/18353.jpg      asimina_triloba\n",
       "1  images/18354.jpg         betula_nigra\n",
       "2  images/18355.jpg  platanus_acerifolia\n",
       "3  images/18356.jpg       pinus_bungeana\n",
       "4  images/18357.jpg  platanus_acerifolia"
      ]
     },
     "execution_count": 33,
     "metadata": {},
     "output_type": "execute_result"
    }
   ],
   "source": [
    "# 提取image和label两列为最终的结果\n",
    "df_submission = df_all[['image','label']].copy()\n",
    "df_submission.head()"
   ]
  },
  {
   "cell_type": "code",
   "execution_count": 34,
   "id": "a938b8d8-2fed-4340-8c66-25fb286194ef",
   "metadata": {
    "tags": []
   },
   "outputs": [
    {
     "name": "stdout",
     "output_type": "stream",
     "text": [
      "Voting results of resnest successfully saved!\n"
     ]
    }
   ],
   "source": [
    "# 保存当前模型得到的最终结果\n",
    "df_submission.to_csv('./submission-resnest.csv', index=False)\n",
    "print('Voting results of resnest successfully saved!')"
   ]
  }
 ],
 "metadata": {
  "kernelspec": {
   "display_name": "Python 3 (ipykernel)",
   "language": "python",
   "name": "python3"
  },
  "language_info": {
   "codemirror_mode": {
    "name": "ipython",
    "version": 3
   },
   "file_extension": ".py",
   "mimetype": "text/x-python",
   "name": "python",
   "nbconvert_exporter": "python",
   "pygments_lexer": "ipython3",
   "version": "3.8.10"
  }
 },
 "nbformat": 4,
 "nbformat_minor": 5
}
